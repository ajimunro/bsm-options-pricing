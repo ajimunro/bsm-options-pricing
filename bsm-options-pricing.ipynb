{
 "cells": [
  {
   "cell_type": "code",
   "execution_count": 6,
   "id": "e8194e8e-270d-4dd1-b049-c3a928232851",
   "metadata": {
    "tags": []
   },
   "outputs": [],
   "source": [
    "import numpy as np\n",
    "from scipy.stats import norm\n",
    "from scipy.optimize import minimize\n",
    "import matplotlib.pyplot as plt"
   ]
  },
  {
   "cell_type": "code",
   "execution_count": 2,
   "id": "672d4508-15b5-4cbc-8e0a-283c13995d1e",
   "metadata": {
    "tags": []
   },
   "outputs": [],
   "source": [
    "def black_scholes_price(S, K, T, r, sigma, option_type='call'):\n",
    "    \"\"\"\n",
    "    Calculate the Black-Scholes price for a European option.\n",
    "    \n",
    "    Parameters:\n",
    "    S : Current stock price\n",
    "    K : Strike price\n",
    "    T : Time to maturity (in years)\n",
    "    r : Risk-free interest rate (annual)\n",
    "    sigma : Volatility of the underlying asset (annual)\n",
    "    option_type : 'call' for call option, 'put' for put option\n",
    "    \n",
    "    Returns:\n",
    "    Price of the option\n",
    "    \"\"\"\n",
    "    d1 = (np.log(S / K) + (r + 0.5 * sigma ** 2) * T) / (sigma * np.sqrt(T))\n",
    "    d2 = d1 - sigma * np.sqrt(T)\n",
    "    \n",
    "    if option_type == 'call':\n",
    "        return S * norm.cdf(d1) - K * np.exp(-r * T) * norm.cdf(d2)\n",
    "    elif option_type == 'put':\n",
    "        return K * np.exp(-r * T) * norm.cdf(-d2) - S * norm.cdf(-d1)\n",
    "    else:\n",
    "        raise ValueError(\"Invalid option type. Use 'call' or 'put'.\")\n",
    "\n",
    "def option_greeks(S, K, T, r, sigma, option_type='call'):\n",
    "   \n",
    "    ### Derive and calculate Greeks using BSM model\n",
    "\n",
    "    d1 = (np.log(S / K) + (r + 0.5 * sigma ** 2) * T) / (sigma * np.sqrt(T))\n",
    "    d2 = d1 - sigma * np.sqrt(T)\n",
    "    \n",
    "    delta = norm.cdf(d1) if option_type == 'call' else norm.cdf(d1) - 1\n",
    "    gamma = norm.pdf(d1) / (S * sigma * np.sqrt(T))\n",
    "    vega = S * norm.pdf(d1) * np.sqrt(T)\n",
    "    theta = - (S * norm.pdf(d1) * sigma) / (2 * np.sqrt(T)) - r * K * np.exp(-r * T) * norm.cdf(d2) if option_type == 'call' else - (S * norm.pdf(d1) * sigma) / (2 * np.sqrt(T)) + r * K * np.exp(-r * T) * norm.cdf(-d2)\n",
    "    rho = K * T * np.exp(-r * T) * norm.cdf(d2) if option_type == 'call' else -K * T * np.exp(-r * T) * norm.cdf(-d2)\n",
    "    \n",
    "    return {'delta': delta, 'gamma': gamma, 'vega': vega, 'theta': theta, 'rho': rho}\n",
    "\n",
    "def delta_hedge(S, K, T, r, sigma, option_type= 'call'):\n",
    "   \n",
    "    ### Calculate the number of stocks needed to hedge based on option delta\n",
    "\n",
    "    greeks = option_greeks(S, K, T, r, sigma, option_type)\n",
    "    delta = greeks['delta']\n",
    "    if option_type == 'call':\n",
    "        return -delta #to hedge the option, take the opposite delta position in stock\n",
    "    else: return delta\n",
    "\n",
    "def inflection_point(S, K, T, r):\n",
    "    \n",
    "    ### Calculate the inflection point of volatility with respect to option price\n",
    "    \n",
    "    m = S / (K * np.exp(-r * T))\n",
    "    return np.sqrt(2 * abs(np.log(m)) / T)             \n",
    "\n",
    "def option_vega(S, K, T, r, sigma):\n",
    "\n",
    "    ### calculating d1 from black scholes\n",
    "    d1 = (np.log(S / K) + (r + 0.5 * sigma ** 2) * T) / (sigma * np.sqrt(T))\n",
    "\n",
    "    ### Calculate Vega\n",
    "    vega = S * norm.pdf(d1) * np.sqrt(T)\n",
    "    return vega\n",
    "\n",
    "def implied_volatility(option_type, market_price, S, K, T, r):\n",
    "    \n",
    "    x0 = inflection_point(S, K, T, r)\n",
    "    tol=10e-8\n",
    "    \n",
    "    def newton_raphson(S, K, T, r, market_price, option_type, x0, tol):\n",
    "        delta = black_scholes_price(S, K, T, r, x0, option_type) - market_price\n",
    "        \n",
    "        while delta > tol:\n",
    "            x0 = x0 - ((black_scholes_price(S, K, T, r, x0, option_type) - market_price) / option_vega(S, K, T, r, x0))\n",
    "            delta = abs(black_scholes_price(S, K, T, r, x0, option_type) - market_price)\n",
    "        return x0\n",
    "    \n",
    "    sig = newton_raphson(S, K, T, r, market_price, option_type, x0, tol)\n",
    "    return sig*100   \n",
    "    "
   ]
  },
  {
   "cell_type": "code",
   "execution_count": 25,
   "id": "89de7cc6-70f6-42c9-ae50-bdf7409ae4cd",
   "metadata": {
    "tags": []
   },
   "outputs": [
    {
     "name": "stdout",
     "output_type": "stream",
     "text": [
      "Option Price: 6.025934557471615\n",
      "Option Greeks: {'delta': -0.5693412475082378, 'gamma': 0.03367549378003524, 'vega': 45.84076590807296, 'theta': -1.5850593789173706, 'rho': -49.98362019816543}\n",
      "Delta Hedge Position (shares to hold): -0.5693412475082378\n",
      "Implied Volatility: 20.73720064469495 %\n"
     ]
    }
   ],
   "source": [
    "S = 165 # Current spot price\n",
    "K = 170  # Strike price\n",
    "T = 0.5    # Time to maturity in years\n",
    "r = 0.03 # Risk-free interest rate\n",
    "sigma = 0.1  # Volatility estimate\n",
    "market_price = 11 # Market price of option\n",
    "option_type = 'put' # Either 'call' or 'put'\n",
    "\n",
    "option_price = black_scholes_price(S, K, T, r, sigma, option_type)\n",
    "print(\"Option Price:\", option_price)\n",
    "\n",
    "greeks = option_greeks(S, K, T, r, sigma, option_type)\n",
    "print(\"Option Greeks:\", greeks)\n",
    "\n",
    "hedge_position = delta_hedge(S, K, T, r, sigma, option_type)\n",
    "print(\"Delta Hedge Position (shares to hold):\", hedge_position)\n",
    "\n",
    "implied_vol = implied_volatility(option_type, market_price, S, K, T, r)\n",
    "print(\"Implied Volatility:\", implied_vol, \"%\")"
   ]
  },
  {
   "cell_type": "code",
   "execution_count": null,
   "id": "b718552d-188e-4888-86d9-775a58ed4e29",
   "metadata": {},
   "outputs": [],
   "source": []
  }
 ],
 "metadata": {
  "kernelspec": {
   "display_name": "Python 3 (ipykernel)",
   "language": "python",
   "name": "python3"
  },
  "language_info": {
   "codemirror_mode": {
    "name": "ipython",
    "version": 3
   },
   "file_extension": ".py",
   "mimetype": "text/x-python",
   "name": "python",
   "nbconvert_exporter": "python",
   "pygments_lexer": "ipython3",
   "version": "3.10.9"
  }
 },
 "nbformat": 4,
 "nbformat_minor": 5
}
